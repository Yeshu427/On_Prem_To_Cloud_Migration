{
 "cells": [
  {
   "cell_type": "code",
   "execution_count": null,
   "metadata": {
    "application/vnd.databricks.v1+cell": {
     "cellMetadata": {
      "byteLimit": 2048000,
      "rowLimit": 10000
     },
     "inputWidgets": {},
     "nuid": "bd8a3f75-a09b-4417-ade3-7cda071e6a5f",
     "showTitle": false,
     "title": ""
    }
   },
   "outputs": [],
   "source": [
    "accountkey = dbutils.secrets.get('databricks-scope','storageaccount-access-key')"
   ]
  },
  {
   "cell_type": "code",
   "execution_count": null,
   "metadata": {
    "application/vnd.databricks.v1+cell": {
     "cellMetadata": {
      "byteLimit": 2048000,
      "rowLimit": 10000
     },
     "inputWidgets": {},
     "nuid": "f8c5774d-68ff-4968-aed6-627e6a2cb95e",
     "showTitle": false,
     "title": ""
    }
   },
   "outputs": [],
   "source": [
    "dbutils.fs.mounts()"
   ]
  },
  {
   "cell_type": "code",
   "execution_count": null,
   "metadata": {
    "application/vnd.databricks.v1+cell": {
     "cellMetadata": {
      "byteLimit": 2048000,
      "rowLimit": 10000
     },
     "inputWidgets": {},
     "nuid": "fb25d8a8-c8d6-4137-96f5-d5a7e07097b2",
     "showTitle": false,
     "title": ""
    }
   },
   "outputs": [
    {
     "name": "stdout",
     "output_type": "stream",
     "text": [
      "It is already mounted\n"
     ]
    }
   ],
   "source": [
    "already_mounted = False \n",
    "for x in dbutils.fs.mounts():\n",
    "    if x.mountPoint == \"/mnt/raw-data\":\n",
    "        already_mounted = True\n",
    "        print(\"It is already mounted\")\n",
    "        break\n",
    "    else:\n",
    "        already_mounted = False\n",
    "if not already_mounted:\n",
    "    dbutils.fs.mount(source = 'wasbs://raw-data@hyderabaddtorageaccount.blob.core.windows.net',\n",
    "                     mount_point = '/mnt/raw-data',\n",
    "                     extra_configs={'fs.azure.account.key.hyderabaddtorageaccount.blob.core.windows.net':accountkey})\n",
    "    print(\"Mount Created\")"
   ]
  },
  {
   "cell_type": "code",
   "execution_count": null,
   "metadata": {
    "application/vnd.databricks.v1+cell": {
     "cellMetadata": {
      "byteLimit": 2048000,
      "rowLimit": 10000
     },
     "inputWidgets": {},
     "nuid": "b26010ec-278d-430f-9a7d-70d8dd1848fe",
     "showTitle": false,
     "title": ""
    }
   },
   "outputs": [
    {
     "name": "stdout",
     "output_type": "stream",
     "text": [
      "It is already mounted\n"
     ]
    }
   ],
   "source": [
    "already_mounted = False \n",
    "for x in dbutils.fs.mounts():\n",
    "    if x.mountPoint == \"/mnt/transformed-data\":\n",
    "        already_mounted = True\n",
    "        print(\"It is already mounted\")\n",
    "        break\n",
    "    else:\n",
    "        already_mounted = False\n",
    "if not already_mounted:\n",
    "    dbutils.fs.mount(source = 'wasbs://transformed-data@hyderabaddtorageaccount.blob.core.windows.net',\n",
    "                     mount_point = '/mnt/transformed-data',\n",
    "                     extra_configs={'fs.azure.account.key.hyderabaddtorageaccount.blob.core.windows.net':accountkey})\n",
    "    print(\"Mount Created\")"
   ]
  },
  {
   "cell_type": "code",
   "execution_count": null,
   "metadata": {
    "application/vnd.databricks.v1+cell": {
     "cellMetadata": {
      "byteLimit": 2048000,
      "rowLimit": 10000
     },
     "inputWidgets": {},
     "nuid": "1066fd8d-1dc7-4a55-a7c9-a3bbd215cbb2",
     "showTitle": false,
     "title": ""
    }
   },
   "outputs": [],
   "source": [
    "df = spark.read.csv(\"/mnt/raw-data/walmart/customer/customer.csv\", inferSchema=True,header=True)\n",
    "df.printSchema()"
   ]
  },
  {
   "cell_type": "code",
   "execution_count": null,
   "metadata": {
    "application/vnd.databricks.v1+cell": {
     "cellMetadata": {
      "byteLimit": 2048000,
      "rowLimit": 10000
     },
     "inputWidgets": {},
     "nuid": "95cbfe6a-9322-44ff-b18e-6511a31a21c0",
     "showTitle": false,
     "title": ""
    }
   },
   "outputs": [],
   "source": [
    "from pyspark.sql.functions import*\n",
    "\n",
    "column = df.columns\n",
    "\n",
    "for col_name in column:\n",
    "        if \"Date\" in col_name or \"date\" in col_name:\n",
    "            df = df.withColumn((\"modified_\"+col_name), to_date(col(col_name)))\n",
    "\n",
    "df.printSchema()\n",
    "display(df)"
   ]
  },
  {
   "cell_type": "code",
   "execution_count": null,
   "metadata": {
    "application/vnd.databricks.v1+cell": {
     "cellMetadata": {
      "byteLimit": 2048000,
      "rowLimit": 10000
     },
     "inputWidgets": {},
     "nuid": "d572becd-8992-41b2-99f5-93276e92179d",
     "showTitle": false,
     "title": ""
    }
   },
   "outputs": [
    {
     "data": {
      "text/plain": [
       "['block',\n",
       " 'buys',\n",
       " 'category',\n",
       " 'customer',\n",
       " 'customertype',\n",
       " 'employee',\n",
       " 'feedback',\n",
       " 'invoicedetails',\n",
       " 'offerdetails',\n",
       " 'paymentmode',\n",
       " 'product',\n",
       " 'returnslip',\n",
       " 'warehouse']"
      ]
     },
     "execution_count": 90,
     "metadata": {},
     "output_type": "execute_result"
    }
   ],
   "source": [
    "table_name = []\n",
    "for i in dbutils.fs.ls('/mnt/raw-data/walmart/'):\n",
    "    table_name.append(i.name.split('/')[0])\n",
    "table_name"
   ]
  },
  {
   "cell_type": "code",
   "execution_count": null,
   "metadata": {
    "application/vnd.databricks.v1+cell": {
     "cellMetadata": {
      "byteLimit": 2048000,
      "rowLimit": 10000
     },
     "inputWidgets": {},
     "nuid": "7820bfed-8f93-48ff-a3f3-1db594c57d96",
     "showTitle": false,
     "title": ""
    }
   },
   "outputs": [],
   "source": [
    "for i in table_name:\n",
    "    path = '/mnt/raw-data/walmart/' + i + '/' + i +  '.csv'\n",
    "    df = spark.read.option(\"header\",\"true\").format('csv').load(path)\n",
    "    column = df.columns\n",
    "    \n",
    "    for col_name in column:\n",
    "        if \"Date\" in col_name or \"date\" in col_name:\n",
    "            df = df.withColumn((\"modified_\"+col_name), to_date(col(col_name)))\n",
    "    output_path = '/mnt/transformed-data/walmart/' +i+ '/'\n",
    "    df.write.csv(output_path, header=True, mode=\"overwrite\")\n",
    "    "
   ]
  },
  {
   "cell_type": "code",
   "execution_count": null,
   "metadata": {
    "application/vnd.databricks.v1+cell": {
     "cellMetadata": {
      "byteLimit": 2048000,
      "rowLimit": 10000
     },
     "inputWidgets": {},
     "nuid": "1da723ad-785d-432f-a8e5-e07c556c4e81",
     "showTitle": false,
     "title": ""
    }
   },
   "outputs": [
    {
     "data": {
      "text/html": [
       "<style scoped>\n",
       "  .table-result-container {\n",
       "    max-height: 300px;\n",
       "    overflow: auto;\n",
       "  }\n",
       "  table, th, td {\n",
       "    border: 1px solid black;\n",
       "    border-collapse: collapse;\n",
       "  }\n",
       "  th, td {\n",
       "    padding: 5px;\n",
       "  }\n",
       "  th {\n",
       "    text-align: left;\n",
       "  }\n",
       "</style><div class='table-result-container'><table class='table-result'><thead style='background-color: white'><tr><th>customer_id</th><th>customer_name</th><th>customer_contact</th><th>date_of_birth</th><th>email</th><th>address</th><th>gender</th><th>customer_type_id</th><th>membership_to</th><th>membership_to_from</th><th>modified_date_of_birth</th></tr></thead><tbody><tr><td>CTM00001</td><td>Mahesh</td><td>96548245</td><td>2000-11-23T00:00:00Z</td><td>maheshpunk@gmail.com</td><td>rohini</td><td>male</td><td>CT00S</td><td>2016-12-10T00:00:00Z</td><td>2017-12-10T00:00:00Z</td><td>2000-11-23</td></tr><tr><td>CTM00002</td><td>Rakesh</td><td>96545489</td><td>1998-07-13T00:00:00Z</td><td>rakeshrap@gmail.com</td><td>cannaught palace</td><td>male</td><td>CT00G</td><td>2016-05-17T00:00:00Z</td><td>2019-05-17T00:00:00Z</td><td>1998-07-13</td></tr><tr><td>CTM00003</td><td>Shanti</td><td>86544759</td><td>1996-10-28T00:00:00Z</td><td>shanti203@gmail.com</td><td>pitampura</td><td>female</td><td>CT00G</td><td>2015-12-05T00:00:00Z</td><td>2018-12-05T00:00:00Z</td><td>1996-10-28</td></tr><tr><td>CTM00004</td><td>Vimla</td><td>92512549</td><td>1994-10-11T00:00:00Z</td><td>vimlakanti@gmail.com</td><td>india gate</td><td>female</td><td>CT00P</td><td>2012-07-10T00:00:00Z</td><td>2017-07-10T00:00:00Z</td><td>1994-10-11</td></tr><tr><td>CTM00005</td><td>Ahmad</td><td>84824589</td><td>2000-09-11T00:00:00Z</td><td>ahmadkhan11@gmail.com</td><td>pragati maidan</td><td>male</td><td>CT00S</td><td>2016-10-15T00:00:00Z</td><td>2017-10-15T00:00:00Z</td><td>2000-09-11</td></tr><tr><td>CTM00006</td><td>Vikash</td><td>96618554</td><td>1998-02-13T00:00:00Z</td><td>vikashhero@gmail.com</td><td>rohini</td><td>male</td><td>CT00S</td><td>2016-11-11T00:00:00Z</td><td>2017-11-11T00:00:00Z</td><td>1998-02-13</td></tr><tr><td>CTM00007</td><td>kalika</td><td>87521452</td><td>2001-12-22T00:00:00Z</td><td>kalikaomg@gmail.com</td><td>dwarka</td><td>female</td><td>CT00S</td><td>2016-08-05T00:00:00Z</td><td>2017-08-05T00:00:00Z</td><td>2001-12-22</td></tr><tr><td>CTM00008</td><td>karan</td><td>80821452</td><td>1991-10-20T00:00:00Z</td><td>karank102@gmail.com</td><td>cannaught palace</td><td>male</td><td>CT0PR</td><td>2011-09-26T00:00:00Z</td><td>2019-09-26T00:00:00Z</td><td>1991-10-20</td></tr><tr><td>CTM00009</td><td>Vipul</td><td>88548887</td><td>1992-03-29T00:00:00Z</td><td>singhvipul@gmail.com</td><td>noida</td><td>male</td><td>CT0PR</td><td>2014-06-15T00:00:00Z</td><td>2022-06-15T00:00:00Z</td><td>1992-03-29</td></tr><tr><td>CTM00010</td><td>Akhilesh</td><td>94547212</td><td>2000-10-23T00:00:00Z</td><td>akhilesh887@gmail.com</td><td>rohini</td><td>male</td><td>CT00S</td><td>2016-12-10T00:00:00Z</td><td>2017-12-10T00:00:00Z</td><td>2000-10-23</td></tr><tr><td>CTM00011</td><td>Raman</td><td>91541587</td><td>1998-09-13T00:00:00Z</td><td>ramanji87p@gmail.com</td><td>cannaught palace</td><td>male</td><td>CT00G</td><td>2016-05-17T00:00:00Z</td><td>2019-05-17T00:00:00Z</td><td>1998-09-13</td></tr><tr><td>CTM00012</td><td>Sita</td><td>76524775</td><td>1996-12-28T00:00:00Z</td><td>sita5487@gmail.com</td><td>pitampura</td><td>female</td><td>CT00G</td><td>2015-12-05T00:00:00Z</td><td>2018-12-05T00:00:00Z</td><td>1996-12-28</td></tr><tr><td>CTM00013</td><td>Kavita</td><td>95812573</td><td>1994-11-11T00:00:00Z</td><td>kvgood12@gmail.com</td><td>india gate</td><td>female</td><td>CT00P</td><td>2012-07-10T00:00:00Z</td><td>2017-07-10T00:00:00Z</td><td>1994-11-11</td></tr><tr><td>CTM00014</td><td>Vijay</td><td>94584581</td><td>2000-10-11T00:00:00Z</td><td>vijay11@gmail.com</td><td>pragati maidan</td><td>male</td><td>CT00S</td><td>2016-10-15T00:00:00Z</td><td>2017-10-15T00:00:00Z</td><td>2000-10-11</td></tr><tr><td>CTM00015</td><td>kamlesh</td><td>98624774</td><td>1998-01-13T00:00:00Z</td><td>kamk78@gmail.com</td><td>rohini</td><td>male</td><td>CT00S</td><td>2016-11-11T00:00:00Z</td><td>2017-11-11T00:00:00Z</td><td>1998-01-13</td></tr><tr><td>CTM00016</td><td>Radha</td><td>97548475</td><td>2001-10-22T00:00:00Z</td><td>radhakrishna09@gmail.com</td><td>dwarka</td><td>female</td><td>CT00S</td><td>2016-08-05T00:00:00Z</td><td>2017-08-05T00:00:00Z</td><td>2001-10-22</td></tr><tr><td>CTM00017</td><td>Manish</td><td>92821112</td><td>1991-12-20T00:00:00Z</td><td>manimonk102@gmail.com</td><td>cannaught palace</td><td>male</td><td>CT0PR</td><td>2013-09-26T00:00:00Z</td><td>2021-09-26T00:00:00Z</td><td>1991-12-20</td></tr><tr><td>CTM00018</td><td>Prem</td><td>89821845</td><td>1992-01-28T00:00:00Z</td><td>prempuri41@gmail.com</td><td>noida</td><td>male</td><td>CT0PR</td><td>2014-06-17T00:00:00Z</td><td>2022-06-17T00:00:00Z</td><td>1992-01-28</td></tr><tr><td>CTM00019</td><td>rayesh</td><td>89832245</td><td>1989-01-23T00:00:00Z</td><td>rayesh301@gmail.com</td><td>rohini</td><td>male</td><td>CT00S</td><td>2014-06-17T00:00:00Z</td><td>2015-06-17T00:00:00Z</td><td>1989-01-23</td></tr><tr><td>CTM00022</td><td>keyur</td><td>89133345</td><td>1990-05-13T00:00:00Z</td><td>keyur401@gmail.com</td><td>noida</td><td>male</td><td>CT00S</td><td>2014-06-17T00:00:00Z</td><td>2015-06-17T00:00:00Z</td><td>1990-05-13</td></tr><tr><td>CTM00024</td><td>Ghanshyam</td><td>89821845</td><td>1993-01-28T00:00:00Z</td><td>gnm00841@gmail.com</td><td>noida</td><td>male</td><td>CT0PR</td><td>2014-06-17T00:00:00Z</td><td>2022-06-17T00:00:00Z</td><td>1993-01-28</td></tr><tr><td>CTM00031</td><td>Biswas</td><td>89821841</td><td>1990-11-28T00:00:00Z</td><td>biswas41@gmail.com</td><td>noida</td><td>male</td><td>CT0PR</td><td>2014-06-17T00:00:00Z</td><td>2022-06-17T00:00:00Z</td><td>1990-11-28</td></tr><tr><td>CTM00034</td><td>Ajay</td><td>89821995</td><td>1994-11-08T00:00:00Z</td><td>ajay41@gmail.com</td><td>noida</td><td>male</td><td>CT0PR</td><td>2014-06-17T00:00:00Z</td><td>2022-06-17T00:00:00Z</td><td>1994-11-08</td></tr><tr><td>CTM00037</td><td>Manoj</td><td>89221845</td><td>1990-02-18T00:00:00Z</td><td>manoj2541@gmail.com</td><td>noida</td><td>male</td><td>CT0PR</td><td>2014-06-17T00:00:00Z</td><td>2022-06-17T00:00:00Z</td><td>1990-02-18</td></tr><tr><td>CTM00039</td><td>jayesh</td><td>89833345</td><td>1990-04-23T00:00:00Z</td><td>jayesh401@gmail.com</td><td>noida</td><td>male</td><td>CT00S</td><td>2015-06-17T00:00:00Z</td><td>2016-06-17T00:00:00Z</td><td>1990-04-23</td></tr><tr><td>CTM00040</td><td>Hemaant</td><td>89811845</td><td>1993-03-28T00:00:00Z</td><td>hmoi41@gmail.com</td><td>noida</td><td>male</td><td>CT0PR</td><td>2014-06-17T00:00:00Z</td><td>2022-06-17T00:00:00Z</td><td>1993-03-28</td></tr><tr><td>CTM00041</td><td>Bhawesh</td><td>89833315</td><td>1991-04-23T00:00:00Z</td><td>bhawesh411@gmail.com</td><td>noida</td><td>male</td><td>CT00S</td><td>2014-06-17T00:00:00Z</td><td>2015-06-17T00:00:00Z</td><td>1991-04-23</td></tr><tr><td>CTM00044</td><td>Prashant</td><td>89821445</td><td>1995-01-28T00:00:00Z</td><td>pc41@gmail.com</td><td>punjabi bagh</td><td>male</td><td>CT00S</td><td>2014-06-17T00:00:00Z</td><td>2015-06-17T00:00:00Z</td><td>1995-01-28</td></tr></tbody></table></div>"
      ]
     },
     "metadata": {
      "application/vnd.databricks.v1+output": {
       "addedWidgets": {},
       "aggData": [],
       "aggError": "",
       "aggOverflow": false,
       "aggSchema": [],
       "aggSeriesLimitReached": false,
       "aggType": "",
       "arguments": {},
       "columnCustomDisplayInfos": {},
       "data": [
        [
         "CTM00001",
         "Mahesh",
         96548245,
         "2000-11-23T00:00:00Z",
         "maheshpunk@gmail.com",
         "rohini",
         "male",
         "CT00S",
         "2016-12-10T00:00:00Z",
         "2017-12-10T00:00:00Z",
         "2000-11-23"
        ],
        [
         "CTM00002",
         "Rakesh",
         96545489,
         "1998-07-13T00:00:00Z",
         "rakeshrap@gmail.com",
         "cannaught palace",
         "male",
         "CT00G",
         "2016-05-17T00:00:00Z",
         "2019-05-17T00:00:00Z",
         "1998-07-13"
        ],
        [
         "CTM00003",
         "Shanti",
         86544759,
         "1996-10-28T00:00:00Z",
         "shanti203@gmail.com",
         "pitampura",
         "female",
         "CT00G",
         "2015-12-05T00:00:00Z",
         "2018-12-05T00:00:00Z",
         "1996-10-28"
        ],
        [
         "CTM00004",
         "Vimla",
         92512549,
         "1994-10-11T00:00:00Z",
         "vimlakanti@gmail.com",
         "india gate",
         "female",
         "CT00P",
         "2012-07-10T00:00:00Z",
         "2017-07-10T00:00:00Z",
         "1994-10-11"
        ],
        [
         "CTM00005",
         "Ahmad",
         84824589,
         "2000-09-11T00:00:00Z",
         "ahmadkhan11@gmail.com",
         "pragati maidan",
         "male",
         "CT00S",
         "2016-10-15T00:00:00Z",
         "2017-10-15T00:00:00Z",
         "2000-09-11"
        ],
        [
         "CTM00006",
         "Vikash",
         96618554,
         "1998-02-13T00:00:00Z",
         "vikashhero@gmail.com",
         "rohini",
         "male",
         "CT00S",
         "2016-11-11T00:00:00Z",
         "2017-11-11T00:00:00Z",
         "1998-02-13"
        ],
        [
         "CTM00007",
         "kalika",
         87521452,
         "2001-12-22T00:00:00Z",
         "kalikaomg@gmail.com",
         "dwarka",
         "female",
         "CT00S",
         "2016-08-05T00:00:00Z",
         "2017-08-05T00:00:00Z",
         "2001-12-22"
        ],
        [
         "CTM00008",
         "karan",
         80821452,
         "1991-10-20T00:00:00Z",
         "karank102@gmail.com",
         "cannaught palace",
         "male",
         "CT0PR",
         "2011-09-26T00:00:00Z",
         "2019-09-26T00:00:00Z",
         "1991-10-20"
        ],
        [
         "CTM00009",
         "Vipul",
         88548887,
         "1992-03-29T00:00:00Z",
         "singhvipul@gmail.com",
         "noida",
         "male",
         "CT0PR",
         "2014-06-15T00:00:00Z",
         "2022-06-15T00:00:00Z",
         "1992-03-29"
        ],
        [
         "CTM00010",
         "Akhilesh",
         94547212,
         "2000-10-23T00:00:00Z",
         "akhilesh887@gmail.com",
         "rohini",
         "male",
         "CT00S",
         "2016-12-10T00:00:00Z",
         "2017-12-10T00:00:00Z",
         "2000-10-23"
        ],
        [
         "CTM00011",
         "Raman",
         91541587,
         "1998-09-13T00:00:00Z",
         "ramanji87p@gmail.com",
         "cannaught palace",
         "male",
         "CT00G",
         "2016-05-17T00:00:00Z",
         "2019-05-17T00:00:00Z",
         "1998-09-13"
        ],
        [
         "CTM00012",
         "Sita",
         76524775,
         "1996-12-28T00:00:00Z",
         "sita5487@gmail.com",
         "pitampura",
         "female",
         "CT00G",
         "2015-12-05T00:00:00Z",
         "2018-12-05T00:00:00Z",
         "1996-12-28"
        ],
        [
         "CTM00013",
         "Kavita",
         95812573,
         "1994-11-11T00:00:00Z",
         "kvgood12@gmail.com",
         "india gate",
         "female",
         "CT00P",
         "2012-07-10T00:00:00Z",
         "2017-07-10T00:00:00Z",
         "1994-11-11"
        ],
        [
         "CTM00014",
         "Vijay",
         94584581,
         "2000-10-11T00:00:00Z",
         "vijay11@gmail.com",
         "pragati maidan",
         "male",
         "CT00S",
         "2016-10-15T00:00:00Z",
         "2017-10-15T00:00:00Z",
         "2000-10-11"
        ],
        [
         "CTM00015",
         "kamlesh",
         98624774,
         "1998-01-13T00:00:00Z",
         "kamk78@gmail.com",
         "rohini",
         "male",
         "CT00S",
         "2016-11-11T00:00:00Z",
         "2017-11-11T00:00:00Z",
         "1998-01-13"
        ],
        [
         "CTM00016",
         "Radha",
         97548475,
         "2001-10-22T00:00:00Z",
         "radhakrishna09@gmail.com",
         "dwarka",
         "female",
         "CT00S",
         "2016-08-05T00:00:00Z",
         "2017-08-05T00:00:00Z",
         "2001-10-22"
        ],
        [
         "CTM00017",
         "Manish",
         92821112,
         "1991-12-20T00:00:00Z",
         "manimonk102@gmail.com",
         "cannaught palace",
         "male",
         "CT0PR",
         "2013-09-26T00:00:00Z",
         "2021-09-26T00:00:00Z",
         "1991-12-20"
        ],
        [
         "CTM00018",
         "Prem",
         89821845,
         "1992-01-28T00:00:00Z",
         "prempuri41@gmail.com",
         "noida",
         "male",
         "CT0PR",
         "2014-06-17T00:00:00Z",
         "2022-06-17T00:00:00Z",
         "1992-01-28"
        ],
        [
         "CTM00019",
         "rayesh",
         89832245,
         "1989-01-23T00:00:00Z",
         "rayesh301@gmail.com",
         "rohini",
         "male",
         "CT00S",
         "2014-06-17T00:00:00Z",
         "2015-06-17T00:00:00Z",
         "1989-01-23"
        ],
        [
         "CTM00022",
         "keyur",
         89133345,
         "1990-05-13T00:00:00Z",
         "keyur401@gmail.com",
         "noida",
         "male",
         "CT00S",
         "2014-06-17T00:00:00Z",
         "2015-06-17T00:00:00Z",
         "1990-05-13"
        ],
        [
         "CTM00024",
         "Ghanshyam",
         89821845,
         "1993-01-28T00:00:00Z",
         "gnm00841@gmail.com",
         "noida",
         "male",
         "CT0PR",
         "2014-06-17T00:00:00Z",
         "2022-06-17T00:00:00Z",
         "1993-01-28"
        ],
        [
         "CTM00031",
         "Biswas",
         89821841,
         "1990-11-28T00:00:00Z",
         "biswas41@gmail.com",
         "noida",
         "male",
         "CT0PR",
         "2014-06-17T00:00:00Z",
         "2022-06-17T00:00:00Z",
         "1990-11-28"
        ],
        [
         "CTM00034",
         "Ajay",
         89821995,
         "1994-11-08T00:00:00Z",
         "ajay41@gmail.com",
         "noida",
         "male",
         "CT0PR",
         "2014-06-17T00:00:00Z",
         "2022-06-17T00:00:00Z",
         "1994-11-08"
        ],
        [
         "CTM00037",
         "Manoj",
         89221845,
         "1990-02-18T00:00:00Z",
         "manoj2541@gmail.com",
         "noida",
         "male",
         "CT0PR",
         "2014-06-17T00:00:00Z",
         "2022-06-17T00:00:00Z",
         "1990-02-18"
        ],
        [
         "CTM00039",
         "jayesh",
         89833345,
         "1990-04-23T00:00:00Z",
         "jayesh401@gmail.com",
         "noida",
         "male",
         "CT00S",
         "2015-06-17T00:00:00Z",
         "2016-06-17T00:00:00Z",
         "1990-04-23"
        ],
        [
         "CTM00040",
         "Hemaant",
         89811845,
         "1993-03-28T00:00:00Z",
         "hmoi41@gmail.com",
         "noida",
         "male",
         "CT0PR",
         "2014-06-17T00:00:00Z",
         "2022-06-17T00:00:00Z",
         "1993-03-28"
        ],
        [
         "CTM00041",
         "Bhawesh",
         89833315,
         "1991-04-23T00:00:00Z",
         "bhawesh411@gmail.com",
         "noida",
         "male",
         "CT00S",
         "2014-06-17T00:00:00Z",
         "2015-06-17T00:00:00Z",
         "1991-04-23"
        ],
        [
         "CTM00044",
         "Prashant",
         89821445,
         "1995-01-28T00:00:00Z",
         "pc41@gmail.com",
         "punjabi bagh",
         "male",
         "CT00S",
         "2014-06-17T00:00:00Z",
         "2015-06-17T00:00:00Z",
         "1995-01-28"
        ]
       ],
       "datasetInfos": [],
       "dbfsResultPath": null,
       "isJsonSchema": true,
       "metadata": {},
       "overflow": false,
       "plotOptions": {
        "customPlotOptions": {},
        "displayType": "table",
        "pivotAggregation": null,
        "pivotColumns": null,
        "xColumns": null,
        "yColumns": null
       },
       "removedWidgets": [],
       "schema": [
        {
         "metadata": "{}",
         "name": "customer_id",
         "type": "\"string\""
        },
        {
         "metadata": "{}",
         "name": "customer_name",
         "type": "\"string\""
        },
        {
         "metadata": "{}",
         "name": "customer_contact",
         "type": "\"integer\""
        },
        {
         "metadata": "{}",
         "name": "date_of_birth",
         "type": "\"timestamp\""
        },
        {
         "metadata": "{}",
         "name": "email",
         "type": "\"string\""
        },
        {
         "metadata": "{}",
         "name": "address",
         "type": "\"string\""
        },
        {
         "metadata": "{}",
         "name": "gender",
         "type": "\"string\""
        },
        {
         "metadata": "{}",
         "name": "customer_type_id",
         "type": "\"string\""
        },
        {
         "metadata": "{}",
         "name": "membership_to",
         "type": "\"timestamp\""
        },
        {
         "metadata": "{}",
         "name": "membership_to_from",
         "type": "\"timestamp\""
        },
        {
         "metadata": "{\"__detected_date_formats\":\"yyyy-M-d\"}",
         "name": "modified_date_of_birth",
         "type": "\"date\""
        }
       ],
       "type": "table"
      }
     },
     "output_type": "display_data"
    },
    {
     "name": "stdout",
     "output_type": "stream",
     "text": [
      "root\n",
      " |-- customer_id: string (nullable = true)\n",
      " |-- customer_name: string (nullable = true)\n",
      " |-- customer_contact: integer (nullable = true)\n",
      " |-- date_of_birth: timestamp (nullable = true)\n",
      " |-- email: string (nullable = true)\n",
      " |-- address: string (nullable = true)\n",
      " |-- gender: string (nullable = true)\n",
      " |-- customer_type_id: string (nullable = true)\n",
      " |-- membership_to: timestamp (nullable = true)\n",
      " |-- membership_to_from: timestamp (nullable = true)\n",
      " |-- modified_date_of_birth: date (nullable = true)\n",
      "\n"
     ]
    }
   ],
   "source": [
    "customer_df=spark.read.csv('/mnt/transformed-data/walmart/customer/',inferSchema=True,header=True)\n",
    "display(customer_df)\n",
    "customer_df.printSchema()"
   ]
  },
  {
   "cell_type": "code",
   "execution_count": null,
   "metadata": {
    "application/vnd.databricks.v1+cell": {
     "cellMetadata": {},
     "inputWidgets": {},
     "nuid": "57f3e58c-9da9-4b98-8b07-682673e6e21d",
     "showTitle": false,
     "title": ""
    }
   },
   "outputs": [],
   "source": []
  }
 ],
 "metadata": {
  "application/vnd.databricks.v1+notebook": {
   "dashboards": [],
   "language": "python",
   "notebookMetadata": {
    "pythonIndentUnit": 4
   },
   "notebookName": "transformed_data",
   "widgets": {}
  },
  "language_info": {
   "name": "python"
  }
 },
 "nbformat": 4,
 "nbformat_minor": 0
}
