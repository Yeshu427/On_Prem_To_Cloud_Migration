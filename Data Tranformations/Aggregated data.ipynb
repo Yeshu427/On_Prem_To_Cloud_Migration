{
 "cells": [
  {
   "cell_type": "markdown",
   "metadata": {
    "application/vnd.databricks.v1+cell": {
     "cellMetadata": {},
     "inputWidgets": {},
     "nuid": "c31b1a10-b4b7-4413-8a08-32fee3ae48a3",
     "showTitle": false,
     "title": ""
    }
   },
   "source": [
    "#### list the details the sold products and the details of the customer who buy them\n"
   ]
  },
  {
   "cell_type": "code",
   "execution_count": 0,
   "metadata": {
    "application/vnd.databricks.v1+cell": {
     "cellMetadata": {
      "byteLimit": 2048000,
      "rowLimit": 10000
     },
     "inputWidgets": {},
     "nuid": "ccb31a85-93bd-4cba-840f-debe54231834",
     "showTitle": false,
     "title": ""
    }
   },
   "outputs": [],
   "source": [
    "customer = spark.read.csv('/mnt/transformed-data/walmart/customer/',inferSchema=True,header=True)\n",
    "invoicedetails = spark.read.csv('/mnt/transformed-data/walmart/invoicedetails/',inferSchema=True,header=True)\n",
    "buys = spark.read.csv('/mnt/transformed-data/walmart/buys/',inferSchema=True,header=True)\n",
    "product = spark.read.csv('/mnt/transformed-data/walmart/product/',inferSchema=True,header=True)\n",
    "\n",
    "# list the details the sold products and the details of the customer who buy them\n",
    "result_df = customer \\\n",
    "    .join(invoicedetails, customer[\"customer_id\"] == invoicedetails[\"cust_id\"], \"inner\") \\\n",
    "    .join(buys, invoicedetails[\"inv_id\"] == buys[\"invoice_id\"], \"inner\") \\\n",
    "    .join(product, buys[\"product_id\"] == product[\"product_id\"], \"inner\") \\\n",
    "    .select(\n",
    "        customer[\"customer_id\"],\n",
    "        customer[\"customer_name\"],\n",
    "        buys[\"invoice_id\"],\n",
    "        product[\"product_id\"],\n",
    "        product[\"product_type\"],\n",
    "        product[\"brand\"]\n",
    "    )\n",
    "\n",
    "result_df.show()\n",
    "\n"
   ]
  },
  {
   "cell_type": "markdown",
   "metadata": {
    "application/vnd.databricks.v1+cell": {
     "cellMetadata": {},
     "inputWidgets": {},
     "nuid": "fe80a099-579b-4a99-9137-75a09409452f",
     "showTitle": false,
     "title": ""
    }
   },
   "source": [
    "#### list the top 5 highest sold product\n"
   ]
  },
  {
   "cell_type": "code",
   "execution_count": 0,
   "metadata": {
    "application/vnd.databricks.v1+cell": {
     "cellMetadata": {
      "byteLimit": 2048000,
      "rowLimit": 10000
     },
     "inputWidgets": {},
     "nuid": "24cd5612-3230-45db-ba99-4f841bb4e53a",
     "showTitle": false,
     "title": ""
    }
   },
   "outputs": [],
   "source": [
    "from pyspark.sql.functions import col, count\n",
    "\n",
    "joined_df = buys.join(product, buys[\"product_id\"] == product[\"product_id\"], \"inner\")\n",
    "\n",
    "# Group by product_id and count the occurrences\n",
    "result_df = joined_df.groupBy(buys[\"product_id\"], product[\"brand\"]) \\\n",
    "    .agg(count(\"*\").alias(\"count\")) \\\n",
    "    .orderBy(col(\"count\").desc()) \\\n",
    "    .limit(10)\n",
    "\n",
    "result_df.show()\n"
   ]
  },
  {
   "cell_type": "markdown",
   "metadata": {
    "application/vnd.databricks.v1+cell": {
     "cellMetadata": {},
     "inputWidgets": {},
     "nuid": "84ebcea4-b7be-4f7c-9079-c6f42bc091b9",
     "showTitle": false,
     "title": ""
    }
   },
   "source": [
    "#### find the top 5 customers with the most product counts\n"
   ]
  },
  {
   "cell_type": "code",
   "execution_count": 0,
   "metadata": {
    "application/vnd.databricks.v1+cell": {
     "cellMetadata": {
      "byteLimit": 2048000,
      "rowLimit": 10000
     },
     "inputWidgets": {},
     "nuid": "935a6bd8-d9ca-4a83-8ee4-2dbf8ccdb90f",
     "showTitle": false,
     "title": ""
    }
   },
   "outputs": [],
   "source": [
    "from pyspark.sql.functions import col, count, dense_rank\n",
    "from pyspark.sql.window import Window\n",
    "\n",
    "\n",
    "top_5_customers = customer.join(invoicedetails, customer[\"customer_id\"] == invoicedetails[\"cust_id\"], \"inner\") \\\n",
    "    .join(buys, invoicedetails[\"inv_id\"] == buys[\"invoice_id\"], \"inner\") \\\n",
    "    .join(product, buys[\"product_id\"] == product[\"product_id\"], \"inner\") \\\n",
    "    .groupBy(customer[\"customer_id\"], customer[\"customer_name\"]) \\\n",
    "    .agg(count(\"*\").alias(\"product_count\")) \\\n",
    "    .withColumn(\"cust_rank\", dense_rank().over(Window.orderBy(col(\"product_count\").desc())))\n",
    "\n",
    "# retrieve the top 5 customers\n",
    "result_df = top_5_customers.filter(col(\"cust_rank\") <= 5) \\\n",
    "    .select(\n",
    "        top_5_customers[\"customer_id\"],\n",
    "        top_5_customers[\"customer_name\"],\n",
    "        top_5_customers[\"product_count\"],\n",
    "        top_5_customers[\"cust_rank\"]\n",
    "    )\n",
    "\n",
    "result_df.show()\n"
   ]
  }
 ],
 "metadata": {
  "application/vnd.databricks.v1+notebook": {
   "dashboards": [],
   "language": "python",
   "notebookMetadata": {
    "pythonIndentUnit": 4
   },
   "notebookName": "Aggregated data",
   "widgets": {}
  }
 },
 "nbformat": 4,
 "nbformat_minor": 0
}
